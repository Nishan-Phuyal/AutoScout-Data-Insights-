{
 "cells": [
  {
   "cell_type": "code",
   "execution_count": 20,
   "metadata": {},
   "outputs": [],
   "source": [
    "import pandas as pd \n"
   ]
  },
  {
   "cell_type": "code",
   "execution_count": 21,
   "metadata": {},
   "outputs": [],
   "source": [
    "data = pd.read_csv(\"data.csv\")\n",
    "# only selecting the important features\n",
    "data = data[[\"brand\", \"model\", \"year\", \"price_in_euro\", \"power_ps\", \"transmission_type\",\"fuel_type\", \"fuel_consumption_l_100km\", \"mileage_in_km\"]]"
   ]
  },
  {
   "cell_type": "code",
   "execution_count": 22,
   "metadata": {},
   "outputs": [],
   "source": [
    "# storing the date into integer format. Cleaning for incosistant entires \n",
    "valid_entrie_data = data[\"year\"].str.isnumeric() # is the string entry actually an integer : Bool\n",
    "data = data[valid_entrie_data] # sample where the entries are valid according to above logic\n",
    "data[\"year\"] = data[\"year\"].astype(int) # casting string entries into integer \n",
    "# Note : the year can be transformed into date format but, as we are not dealing with panal model, the integer is much easier to handle\n"
   ]
  },
  {
   "cell_type": "code",
   "execution_count": 23,
   "metadata": {},
   "outputs": [],
   "source": [
    "# cleaning the price_in_euro column by following the similar logic as before.\n",
    "valid_price_data = data[\"price_in_euro\"].str.isnumeric()\n",
    "data = data[valid_price_data]\n",
    "data[\"price_in_euro\"] = data[\"price_in_euro\"].astype(int)"
   ]
  },
  {
   "cell_type": "code",
   "execution_count": 24,
   "metadata": {},
   "outputs": [],
   "source": [
    "# cleaning the power_ps\n",
    "data.dropna(subset=[\"power_ps\"], inplace=True) # dropping the NaN rows. (contexttual imputaton possibility)\n",
    "data[\"power_ps\"] = data[\"power_ps\"].astype(int) "
   ]
  },
  {
   "cell_type": "code",
   "execution_count": 25,
   "metadata": {},
   "outputs": [],
   "source": [
    "# similarly dropping the NaN row in mileage_in_km\n",
    "data.dropna(subset=[\"mileage_in_km\"], inplace=True)"
   ]
  },
  {
   "cell_type": "code",
   "execution_count": 26,
   "metadata": {},
   "outputs": [],
   "source": [
    "# dropping the inconsitant entries in transmission_type \n",
    "\n",
    "data = data[data[\"transmission_type\"]!= \"Unknown\"]"
   ]
  },
  {
   "cell_type": "code",
   "execution_count": 27,
   "metadata": {},
   "outputs": [],
   "source": [
    "# Similarly fuel_type column \n",
    "data = data[~data[\"fuel_type\"].isin([\"Unknown\", \"Other\"])] # drop the rows where the entres are \"Unknown\" and \"Others\""
   ]
  },
  {
   "cell_type": "code",
   "execution_count": 28,
   "metadata": {},
   "outputs": [],
   "source": [
    "# Use of special character patterns to extract only the numerical values from the individual entries and dropping the NAN rows. \n",
    "data[\"fuel_consumption_l_100km\"] = data[\"fuel_consumption_l_100km\"].str.extract(r\"(\\d+,\\d+)\")[0].str.replace(\",\",\".\").astype(float)\n",
    "data.dropna(subset=[\"fuel_consumption_l_100km\"], inplace=True)"
   ]
  },
  {
   "cell_type": "code",
   "execution_count": 29,
   "metadata": {},
   "outputs": [],
   "source": [
    "# Store the clean dataset in local directory. This is the dataset used in the EDA, Inferential statistics, building the machine learning model and prediction \n",
    "data.to_csv(\"clean_data.csv\", index=False)"
   ]
  },
  {
   "cell_type": "code",
   "execution_count": 41,
   "metadata": {},
   "outputs": [],
   "source": [
    "count_data = df.groupby([\"year\", \"brand\"]).size().reset_index(name =\"count\")\n",
    "\n",
    "# create a Pivot Table: (easier way to visualize the heatmap, where we consider the brad as our pivot index and year as our columns, and the cells are populated by the counts of each brand produced in given year.)\n",
    "pivot_table = count_data.pivot(index= \"year\", columns= \"brand\", values=\"count\")\n",
    "\n",
    "brand_total = pivot_table.sum(axis = 0).sort_values(ascending = False) # Count the total number of occurrences of each branch in the entire data set.\n",
    "\n",
    "pivot_table = pivot_table[brand_total.index] # Reorder the pivot table according to the index of brand_total, i.e. the brands that occur most frequently are displayed first.\n"
   ]
  },
  {
   "cell_type": "code",
   "execution_count": 45,
   "metadata": {},
   "outputs": [
    {
     "data": {
      "text/plain": [
       "brand\n",
       "chrysler            18.0\n",
       "rover               32.0\n",
       "daewoo              39.0\n",
       "infiniti            81.0\n",
       "lancia              83.0\n",
       "chevrolet           98.0\n",
       "cadillac           103.0\n",
       "isuzu              143.0\n",
       "daihatsu           145.0\n",
       "lada               158.0\n",
       "saab               177.0\n",
       "aston-martin       206.0\n",
       "lamborghini        230.0\n",
       "ssangyong          235.0\n",
       "dodge              250.0\n",
       "ferrari            295.0\n",
       "bentley            333.0\n",
       "maserati           522.0\n",
       "honda              622.0\n",
       "mitsubishi         655.0\n",
       "jaguar             990.0\n",
       "smart             1075.0\n",
       "alfa-romeo        1139.0\n",
       "jeep              1217.0\n",
       "land-rover        2491.0\n",
       "dacia             2755.0\n",
       "nissan            2839.0\n",
       "citroen           3010.0\n",
       "porsche           3153.0\n",
       "volvo             3154.0\n",
       "mini              3404.0\n",
       "mazda             3519.0\n",
       "fiat              3996.0\n",
       "kia               4486.0\n",
       "peugeot           4576.0\n",
       "hyundai           5238.0\n",
       "toyota            6044.0\n",
       "renault           6381.0\n",
       "seat              9685.0\n",
       "skoda            11590.0\n",
       "ford             14427.0\n",
       "bmw              16195.0\n",
       "opel             16830.0\n",
       "audi             17807.0\n",
       "mercedes-benz    22054.0\n",
       "volkswagen       27289.0\n",
       "dtype: float64"
      ]
     },
     "execution_count": 45,
     "metadata": {},
     "output_type": "execute_result"
    }
   ],
   "source": [
    "pivot_table.sum(axis=0).sort_values(ascending = True)"
   ]
  },
  {
   "cell_type": "code",
   "execution_count": null,
   "metadata": {},
   "outputs": [],
   "source": []
  }
 ],
 "metadata": {
  "kernelspec": {
   "display_name": "base",
   "language": "python",
   "name": "python3"
  },
  "language_info": {
   "codemirror_mode": {
    "name": "ipython",
    "version": 3
   },
   "file_extension": ".py",
   "mimetype": "text/x-python",
   "name": "python",
   "nbconvert_exporter": "python",
   "pygments_lexer": "ipython3",
   "version": "3.11.7"
  }
 },
 "nbformat": 4,
 "nbformat_minor": 2
}
